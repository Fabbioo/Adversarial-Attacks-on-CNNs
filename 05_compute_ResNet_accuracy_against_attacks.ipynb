{
 "cells": [
  {
   "cell_type": "markdown",
   "metadata": {},
   "source": [
    "# General imports"
   ]
  },
  {
   "cell_type": "code",
   "execution_count": 1,
   "metadata": {},
   "outputs": [],
   "source": [
    "from functions import *"
   ]
  },
  {
   "cell_type": "markdown",
   "metadata": {},
   "source": [
    "# Setup workspace"
   ]
  },
  {
   "cell_type": "code",
   "execution_count": 2,
   "metadata": {},
   "outputs": [],
   "source": [
    "dataset: list[str] = load_dataset(images_path)\n",
    "\n",
    "model: any = load_model_resnet50()\n",
    "\n",
    "loss_fn: any = nn.CrossEntropyLoss()\n",
    "\n",
    "flag_compute_ResNet50_performance_against_FGSM: bool = False\n",
    "flag_compute_ResNet50_performance_against_IFGSM: bool = False\n",
    "flag_compute_ResNet50_performance_against_PGD: bool = False\n",
    "\n",
    "attack_type: dict[int, str] = {\n",
    "    1: \"FGSM\",\n",
    "    2: \"I-FGSM\",\n",
    "    3: \"PGD\"\n",
    "}"
   ]
  },
  {
   "cell_type": "markdown",
   "metadata": {},
   "source": [
    "# Compute ResNet-50 performances against different attacks"
   ]
  },
  {
   "cell_type": "code",
   "execution_count": 3,
   "metadata": {},
   "outputs": [],
   "source": [
    "if flag_compute_ResNet50_performance_against_FGSM:\n",
    "\n",
    "    fgsm_accuracies, fgsm_dict_wrong_preds = compute_accuracy(attack_type[1], dataset, model, loss_fn, epsilons, alphas)\n",
    "    \n",
    "    file_name: str = os.path.join(results_path, \"fgsm_accuracies.txt\")\n",
    "   \n",
    "    with open(file_name, 'w') as file:\n",
    "        for i, elem in enumerate(fgsm_accuracies):\n",
    "            string_to_write: str = \"\"\n",
    "            if i < len(epsilons) - 1:\n",
    "                string_to_write = str(elem) + \"\\n\"\n",
    "            else:\n",
    "                string_to_write = str(elem)\n",
    "            file.write(string_to_write)\n",
    "        del file_name, string_to_write, i, elem\n",
    "    \n",
    "    torch.save(fgsm_dict_wrong_preds, \"res/fgsm_dict_wrong_preds.pth\")\n",
    "   \n",
    "    del fgsm_accuracies, fgsm_dict_wrong_preds, file\n",
    "\n",
    "del flag_compute_ResNet50_performance_against_FGSM"
   ]
  },
  {
   "cell_type": "code",
   "execution_count": 4,
   "metadata": {},
   "outputs": [],
   "source": [
    "if flag_compute_ResNet50_performance_against_IFGSM: # 172min\n",
    "    \n",
    "    for iter in iters:\n",
    "        \n",
    "        print(\"Start \" + attack_type[2] + f\" with {iter} iters.\")\n",
    "        ifgsm_accuracies, ifgsm_dict_wrong_preds = compute_accuracy(attack_type[2], dataset, model, loss_fn, epsilons, alphas, iter)\n",
    "        print(\"Completed.\")\n",
    "        \n",
    "        file_name: str = os.path.join(results_path, f\"ifgsm_accuracies_{iter}iters.txt\")\n",
    "        \n",
    "        with open(file_name, 'w') as file:\n",
    "            for i, elem in enumerate(ifgsm_accuracies):\n",
    "                string_to_write: str = \"\"\n",
    "                if i < len(epsilons) - 1:\n",
    "                    string_to_write = str(elem) + \"\\n\"\n",
    "                else:\n",
    "                    string_to_write = str(elem)\n",
    "                file.write(string_to_write)\n",
    "            del file_name, string_to_write, i, elem\n",
    "        \n",
    "        torch.save(ifgsm_dict_wrong_preds, f\"res/ifgsm_dict_wrong_preds_{iter}iters.pth\")\n",
    "        \n",
    "        del iter, ifgsm_accuracies, ifgsm_dict_wrong_preds, file\n",
    "\n",
    "del flag_compute_ResNet50_performance_against_IFGSM"
   ]
  },
  {
   "cell_type": "code",
   "execution_count": 5,
   "metadata": {},
   "outputs": [],
   "source": [
    "if flag_compute_ResNet50_performance_against_PGD: # 172min\n",
    "    \n",
    "    for iter in iters:\n",
    "       \n",
    "        print(\"Start \" + attack_type[3] + f\" with {iter} iters.\")\n",
    "        pgd_accuracies, pgd_dict_wrong_preds = compute_accuracy(attack_type[3], dataset, model, loss_fn, epsilons, alphas, iter)\n",
    "        print(\"Completed.\")\n",
    "        \n",
    "        file_name: str = os.path.join(results_path, f\"pgd_accuracies_{iter}iters.txt\")\n",
    "        \n",
    "        with open(file_name, 'w') as file:\n",
    "            for i, elem in enumerate(pgd_accuracies):\n",
    "                string_to_write: str = \"\"\n",
    "                if i < len(epsilons) - 1:\n",
    "                    string_to_write = str(elem) + \"\\n\"\n",
    "                else:\n",
    "                    string_to_write = str(elem)\n",
    "                file.write(string_to_write)\n",
    "            del file_name, string_to_write, i, elem\n",
    "        \n",
    "        torch.save(pgd_dict_wrong_preds, f\"res/pgd_dict_wrong_preds_{iter}iters.pth\")\n",
    "        \n",
    "        del iter, ifgsm_accuracies, ifgsm_dict_wrong_preds, file\n",
    "\n",
    "del flag_compute_ResNet50_performance_against_PGD"
   ]
  },
  {
   "cell_type": "code",
   "execution_count": 6,
   "metadata": {},
   "outputs": [],
   "source": [
    "del dataset, model, loss_fn, attack_type"
   ]
  }
 ],
 "metadata": {
  "kernelspec": {
   "display_name": "yolov8",
   "language": "python",
   "name": "python3"
  },
  "language_info": {
   "codemirror_mode": {
    "name": "ipython",
    "version": 3
   },
   "file_extension": ".py",
   "mimetype": "text/x-python",
   "name": "python",
   "nbconvert_exporter": "python",
   "pygments_lexer": "ipython3",
   "version": "3.11.7"
  }
 },
 "nbformat": 4,
 "nbformat_minor": 2
}
