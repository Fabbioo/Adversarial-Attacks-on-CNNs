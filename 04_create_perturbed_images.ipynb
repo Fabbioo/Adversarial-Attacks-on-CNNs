{
 "cells": [
  {
   "cell_type": "markdown",
   "metadata": {},
   "source": [
    "# General imports"
   ]
  },
  {
   "cell_type": "code",
   "execution_count": 1,
   "metadata": {},
   "outputs": [],
   "source": [
    "from functions import *"
   ]
  },
  {
   "cell_type": "markdown",
   "metadata": {},
   "source": [
    "# Setup workspace"
   ]
  },
  {
   "cell_type": "code",
   "execution_count": 2,
   "metadata": {},
   "outputs": [],
   "source": [
    "dataset: list[str] = load_dataset(images_path)\n",
    "\n",
    "model: any = load_model_resnet50()\n",
    "\n",
    "loss_fn: any = nn.CrossEntropyLoss()\n",
    "\n",
    "flag_save_perturbed_images_FGSM: bool = False\n",
    "flag_save_perturbed_images_IFGSM: bool = False\n",
    "flag_save_perturbed_images_PGD: bool = False\n",
    "\n",
    "epsilons: list[float] = [0, 0.1, 0.2, 0.3, 0.4, 0.5, 0.6, 0.7, 0.8, 0.9, 1] # Customize these values.\n",
    "alphas: list[float] = [elem/100 for elem in epsilons] # Customize these values.\n",
    "iters: list[int] = [5, 10, 25, 50, 75, 100] # Customize these values."
   ]
  },
  {
   "cell_type": "markdown",
   "metadata": {},
   "source": [
    "# Save perturbed images by different attacks"
   ]
  },
  {
   "cell_type": "code",
   "execution_count": 3,
   "metadata": {},
   "outputs": [],
   "source": [
    "if flag_save_perturbed_images_FGSM:\n",
    "\n",
    "    for image in dataset:\n",
    "\n",
    "        original_image_tensor: torch.Tensor = read_image(image)\n",
    "        original_image_tensor = preprocess(original_image_tensor)\n",
    "        \n",
    "        perturbed_image_tensor: torch.Tensor = fgsm_attack(model, loss_fn, original_image_tensor, epsilons[4])\n",
    "        \n",
    "        perturbed_image_tensor = postprocess(perturbed_image_tensor)\n",
    "        \n",
    "        perturbed_image_pil: Image.Image = Image.fromarray(tensor2array(perturbed_image_tensor))\n",
    "        \n",
    "        path_file, extension = os.path.splitext(image)\n",
    "        saving_path: str = perturbed_images_path + \"/FGSM/\" + path_file.split(\"/\")[-1] + \"_FGSM\" + extension\n",
    "        perturbed_image_pil.save(saving_path)\n",
    "        \n",
    "        del image, original_image_tensor, perturbed_image_tensor, perturbed_image_pil, path_file, extension, saving_path\n",
    "\n",
    "del flag_save_perturbed_images_FGSM"
   ]
  },
  {
   "cell_type": "code",
   "execution_count": 4,
   "metadata": {},
   "outputs": [],
   "source": [
    "if flag_save_perturbed_images_IFGSM: # 138min\n",
    "\n",
    "    for iter in iters:\n",
    "\n",
    "        for epsilon, alpha in zip(epsilons, alphas): # Customize this approach.\n",
    "\n",
    "            for image in dataset:\n",
    "\n",
    "                original_image_tensor: torch.Tensor = read_image(image)\n",
    "                original_image_tensor = preprocess(original_image_tensor)\n",
    "\n",
    "                perturbed_image_tensor: torch.Tensor = ifgsm_attack(model, loss_fn, original_image_tensor, epsilon, alpha, iter)\n",
    "                \n",
    "                perturbed_image_tensor = postprocess(perturbed_image_tensor)\n",
    "                \n",
    "                perturbed_image_pil: Image.Image = Image.fromarray(tensor2array(perturbed_image_tensor))\n",
    "                \n",
    "                path_file, extension = os.path.splitext(image)\n",
    "                saving_path: str = perturbed_images_path + \"/IFGSM/\" + path_file.split(\"/\")[-1] + f\"_IFGSM_{iter}iters\" + extension\n",
    "                perturbed_image_pil.save(saving_path)\n",
    "                \n",
    "                del image, original_image_tensor, perturbed_image_tensor, perturbed_image_pil, path_file, extension, saving_path\n",
    "            \n",
    "            del epsilon, alpha\n",
    "        \n",
    "        del iter\n",
    "\n",
    "del flag_save_perturbed_images_IFGSM"
   ]
  },
  {
   "cell_type": "code",
   "execution_count": 5,
   "metadata": {},
   "outputs": [],
   "source": [
    "if flag_save_perturbed_images_PGD: # 138min\n",
    "\n",
    "    for iter in iters:\n",
    "\n",
    "        for epsilon, alpha in zip(epsilons, alphas): # Customize this approach.\n",
    "\n",
    "            for image in dataset:\n",
    "\n",
    "                original_image_tensor: torch.Tensor = read_image(image)\n",
    "                original_image_tensor = preprocess(original_image_tensor)\n",
    "\n",
    "                perturbed_image_tensor: torch.Tensor = pgd_attack(model, loss_fn, original_image_tensor, epsilon, alpha, iter)\n",
    "                \n",
    "                perturbed_image_tensor = postprocess(perturbed_image_tensor)\n",
    "                \n",
    "                perturbed_image_pil: Image.Image = Image.fromarray(tensor2array(perturbed_image_tensor))\n",
    "                \n",
    "                path_file, extension = os.path.splitext(image)\n",
    "                saving_path: str = perturbed_images_path + \"/PGD/\" + path_file.split(\"/\")[-1] + f\"_PGD_{iter}iters\" + extension\n",
    "                perturbed_image_pil.save(saving_path)\n",
    "                \n",
    "                del image, original_image_tensor, perturbed_image_tensor, perturbed_image_pil, path_file, extension, saving_path\n",
    "            \n",
    "            del epsilon, alpha\n",
    "        \n",
    "        del iter\n",
    "\n",
    "del flag_save_perturbed_images_PGD"
   ]
  },
  {
   "cell_type": "code",
   "execution_count": 6,
   "metadata": {},
   "outputs": [],
   "source": [
    "del dataset, model, loss_fn, epsilons, alphas, iters"
   ]
  }
 ],
 "metadata": {
  "kernelspec": {
   "display_name": "adversarial",
   "language": "python",
   "name": "python3"
  },
  "language_info": {
   "codemirror_mode": {
    "name": "ipython",
    "version": 3
   },
   "file_extension": ".py",
   "mimetype": "text/x-python",
   "name": "python",
   "nbconvert_exporter": "python",
   "pygments_lexer": "ipython3",
   "version": "3.11.7"
  }
 },
 "nbformat": 4,
 "nbformat_minor": 2
}
