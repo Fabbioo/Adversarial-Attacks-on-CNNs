{
 "cells": [
  {
   "cell_type": "markdown",
   "metadata": {},
   "source": [
    "# General imports"
   ]
  },
  {
   "cell_type": "code",
   "execution_count": null,
   "metadata": {},
   "outputs": [],
   "source": [
    "from functions import *"
   ]
  },
  {
   "cell_type": "markdown",
   "metadata": {},
   "source": [
    "# Setup workspace"
   ]
  },
  {
   "cell_type": "code",
   "execution_count": null,
   "metadata": {},
   "outputs": [],
   "source": [
    "dataset: list[str] = load_dataset(images_path)\n",
    "\n",
    "model: any = load_model_resnet50()\n",
    "\n",
    "dict_show_wrong_preds: dict[str, bool] = {\n",
    "    \"show_FGSM_wrong_preds\": False,\n",
    "    \"show_IFGSM_wrong_preds\": False,\n",
    "    \"show_PGD_wrong_preds\": False\n",
    "}\n",
    "\n",
    "epsilons: list[float] = [0, 0.1, 0.2, 0.3, 0.4, 0.5, 0.6, 0.7, 0.8, 0.9, 1] # Customize these values.\n",
    "iters: list[int] = [5, 10, 25, 50, 75, 100] # Customize these values."
   ]
  },
  {
   "cell_type": "markdown",
   "metadata": {},
   "source": [
    "# Load and display performances on different iters"
   ]
  },
  {
   "cell_type": "code",
   "execution_count": null,
   "metadata": {},
   "outputs": [],
   "source": [
    "fgsm_accuracies: list[float] = np.loadtxt(\"res/fgsm_accuracies.txt\", delimiter = \" \").tolist()\n",
    "fgsm_dict_wrong_preds: dict = torch.load(\"res/fgsm_dict_wrong_preds.pth\")\n",
    "\n",
    "for iter in iters:\n",
    "\n",
    "    ifgsm_accuracies: list[float] = np.loadtxt(f\"res/ifgsm_accuracies_{iter}iters.txt\", delimiter = \" \").tolist()\n",
    "    ifgsm_dict_wrong_preds: dict = torch.load(f\"res/ifgsm_dict_wrong_preds_{iter}iters.pth\")\n",
    "\n",
    "    pgd_accuracies: list[float] = np.loadtxt(f\"res/pgd_accuracies_{iter}iters.txt\", delimiter = \" \").tolist()\n",
    "    pgd_dict_wrong_preds: dict = torch.load(f\"res/pgd_dict_wrong_preds_{iter}iters.pth\")\n",
    "\n",
    "    accuracies: tuple[list[float]] = (fgsm_accuracies, ifgsm_accuracies, pgd_accuracies)\n",
    "    wrong_preds: tuple[dict] = (fgsm_dict_wrong_preds, ifgsm_dict_wrong_preds, pgd_dict_wrong_preds)\n",
    "    \n",
    "    accuracy_display(dataset, model, epsilons, accuracies, iter, wrong_preds, dict_show_wrong_preds)\n",
    "\n",
    "    del iter, ifgsm_accuracies, ifgsm_dict_wrong_preds, pgd_accuracies, pgd_dict_wrong_preds, accuracies, wrong_preds\n",
    "\n",
    "del dataset, model, dict_show_wrong_preds, epsilons, iters, fgsm_accuracies, fgsm_dict_wrong_preds"
   ]
  }
 ],
 "metadata": {
  "kernelspec": {
   "display_name": "yolov8",
   "language": "python",
   "name": "python3"
  },
  "language_info": {
   "codemirror_mode": {
    "name": "ipython",
    "version": 3
   },
   "file_extension": ".py",
   "mimetype": "text/x-python",
   "name": "python",
   "nbconvert_exporter": "python",
   "pygments_lexer": "ipython3",
   "version": "3.11.7"
  }
 },
 "nbformat": 4,
 "nbformat_minor": 2
}
